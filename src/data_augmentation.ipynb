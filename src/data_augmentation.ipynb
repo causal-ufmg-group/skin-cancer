{
 "cells": [
  {
   "cell_type": "code",
   "execution_count": null,
   "metadata": {},
   "outputs": [],
   "source": [
    "from functools import partial\n",
    "\n",
    "import PIL\n",
    "import numpy as np\n",
    "import pandas as pd\n",
    "\n",
    "import torch\n",
    "\n",
    "import data_augmentation as aug\n",
    "import robustdg_modified.dataset as dataset\n",
    "import robustdg_modified.config as cfg\n",
    "\n",
    "torch.__version__"
   ]
  },
  {
   "cell_type": "code",
   "execution_count": null,
   "metadata": {},
   "outputs": [],
   "source": [
    "import sys\n",
    "print(sys.version)\n",
    "print(f\"Num GPUs Available: {torch.cuda.device_count()}\")\n",
    "\n",
    "device = \"cuda:0\" if torch.cuda.is_available() else \"cpu\"\n",
    "torch_device = torch.device(device)\n",
    "torch_device"
   ]
  },
  {
   "cell_type": "markdown",
   "metadata": {},
   "source": [
    "## Reproducibility"
   ]
  },
  {
   "cell_type": "code",
   "execution_count": null,
   "metadata": {},
   "outputs": [],
   "source": [
    "SEED = 1\n",
    "\n",
    "data_loader_generator = torch.Generator()\n",
    "cfg.reproducibility.seed_everything(SEED, data_loader_generator)"
   ]
  },
  {
   "cell_type": "markdown",
   "metadata": {},
   "source": [
    "## Dataset"
   ]
  },
  {
   "attachments": {},
   "cell_type": "markdown",
   "metadata": {},
   "source": [
    "### Unbalanced Dataset"
   ]
  },
  {
   "cell_type": "code",
   "execution_count": null,
   "metadata": {},
   "outputs": [],
   "source": [
    "labels_csv = pd.read_csv(cfg.paths.LABELS_CSV[\"train\"])\n",
    "domain_csv = pd.read_csv(cfg.paths.DOMAIN_TRAIN_CSV)"
   ]
  },
  {
   "cell_type": "code",
   "execution_count": null,
   "metadata": {},
   "outputs": [],
   "source": [
    "img_names = dataset.read.get_image_names(labels_csv)\n",
    "img_labels = dataset.read.get_one_hot_labels(labels_csv)\n",
    "img_domain = dataset.read.get_one_hot_domain(domain_csv)"
   ]
  },
  {
   "cell_type": "markdown",
   "metadata": {},
   "source": [
    "### Dataset information"
   ]
  },
  {
   "cell_type": "code",
   "execution_count": null,
   "metadata": {},
   "outputs": [],
   "source": [
    "CLASSES = dataset.utils.metadata.get_one_hot_encoded_names(img_labels)\n",
    "DOMAINS = dataset.utils.metadata.get_one_hot_encoded_names(img_domain)\n",
    "\n",
    "CLASSES, DOMAINS"
   ]
  },
  {
   "cell_type": "code",
   "execution_count": null,
   "metadata": {},
   "outputs": [],
   "source": [
    "IMG_CHANNELS, IMG_HEIGHT, IMG_WIDTH = dataset.utils.metadata.get_image_dimensions(cfg.paths.IMG_DIR[\"train\"])\n",
    "IMG_CHANNELS, IMG_HEIGHT, IMG_WIDTH"
   ]
  },
  {
   "cell_type": "markdown",
   "metadata": {},
   "source": [
    "### Domain information"
   ]
  },
  {
   "cell_type": "code",
   "execution_count": null,
   "metadata": {},
   "outputs": [],
   "source": [
    "diagnosis = dataset.utils.one_hot_encoding.convert_one_hot_df_to_names(img_labels, \"diagnosis\")\n",
    "diagnosis_method = dataset.utils.one_hot_encoding.convert_one_hot_df_to_names(img_domain, \"diagnosis method\")\n",
    "img_information = pd.concat([img_names, diagnosis, diagnosis_method], axis=1)\n",
    "\n",
    "imgs_per_domain_label = aug.get_information_per_domain_label(\n",
    "    img_information, \n",
    "    column_names = [\"image\", \"diagnosis method\", \"diagnosis\"]\n",
    ")\n",
    "imgs_per_domain_label"
   ]
  },
  {
   "attachments": {},
   "cell_type": "markdown",
   "metadata": {},
   "source": [
    "### Desired sizes"
   ]
  },
  {
   "cell_type": "code",
   "execution_count": null,
   "metadata": {},
   "outputs": [],
   "source": [
    "imgs_per_domain_label[\"size\"].quantile([0.45, 0.5, 0.55])"
   ]
  },
  {
   "cell_type": "code",
   "execution_count": null,
   "metadata": {},
   "outputs": [],
   "source": [
    "from functools import partial\n",
    "# Based off of this we can use the interval: [290, 430]\n",
    "map_to_interval_fn = partial(aug.map_values_proportionally_to_interval, interval=(290, 430))\n",
    "\n",
    "desired_count = (\n",
    "    imgs_per_domain_label[\"size\"]\n",
    "    .groupby(\"diagnosis method\", group_keys=False)\n",
    "    .apply(map_to_interval_fn)\n",
    ")\n",
    "imgs_per_domain_label = pd.concat([imgs_per_domain_label, desired_count.rename(\"desired size\")], axis=1)\n",
    "imgs_per_domain_label"
   ]
  },
  {
   "attachments": {},
   "cell_type": "markdown",
   "metadata": {},
   "source": [
    "## Data Augmentation"
   ]
  },
  {
   "cell_type": "code",
   "execution_count": null,
   "metadata": {},
   "outputs": [],
   "source": [
    "to_reduce = imgs_per_domain_label[imgs_per_domain_label[\"size\"] >= imgs_per_domain_label[\"desired size\"]]\n",
    "to_augment = imgs_per_domain_label[imgs_per_domain_label[\"size\"] < imgs_per_domain_label[\"desired size\"]]"
   ]
  },
  {
   "cell_type": "code",
   "execution_count": null,
   "metadata": {},
   "outputs": [],
   "source": [
    "cfg.paths.IMG_DIR[\"augmented_train\"].mkdir(parents=True, exist_ok=True)"
   ]
  },
  {
   "attachments": {},
   "cell_type": "markdown",
   "metadata": {},
   "source": [
    "### Reduce"
   ]
  },
  {
   "cell_type": "code",
   "execution_count": null,
   "metadata": {},
   "outputs": [],
   "source": [
    "# Partial function\n",
    "copy_imgs_fn = partial(\n",
    "    aug.copy_all_imgs,\n",
    "    from_dir = cfg.paths.IMG_DIR[\"train\"],\n",
    "    to_dir = cfg.paths.IMG_DIR[\"augmented_train\"],\n",
    "    img_extension = \"jpg\"\n",
    ")"
   ]
  },
  {
   "cell_type": "code",
   "execution_count": null,
   "metadata": {},
   "outputs": [],
   "source": [
    "for (domain, label), (img_names, size, desired_size) in to_reduce.iterrows():\n",
    "\n",
    "    desired_img_names = np.random.choice(img_names, size=desired_size, replace=False)\n",
    "    copy_imgs_fn(img_names=desired_img_names)"
   ]
  },
  {
   "attachments": {},
   "cell_type": "markdown",
   "metadata": {},
   "source": [
    "### Augment"
   ]
  },
  {
   "cell_type": "code",
   "execution_count": null,
   "metadata": {},
   "outputs": [],
   "source": [
    "import torchvision.transforms as T\n",
    "\n",
    "augmentation_fn = T.Compose(\n",
    "    [\n",
    "        T.RandomApply([\n",
    "            T.CenterCrop(\n",
    "                [int(0.90 * IMG_HEIGHT), int(0.90 * IMG_WIDTH)]\n",
    "            )\n",
    "            ], p=0.25\n",
    "        ),\n",
    "        T.RandomHorizontalFlip(p=0.50),\n",
    "        T.RandomVerticalFlip(p=0.50),\n",
    "        T.RandomRotation((0, 360)),\n",
    "        T.RandomAdjustSharpness(sharpness_factor=2, p=0.50)\n",
    "    ]\n",
    ")\n",
    "\n",
    "# Partial function\n",
    "augment_imgs_fn = partial(\n",
    "    aug.augment_all_imgs,\n",
    "    from_dir = cfg.paths.IMG_DIR[\"train\"],\n",
    "    augmentation = augmentation_fn,\n",
    "    to_dir = cfg.paths.IMG_DIR[\"augmented_train\"],\n",
    "    img_extension = \"jpg\",\n",
    ")"
   ]
  },
  {
   "cell_type": "code",
   "execution_count": null,
   "metadata": {},
   "outputs": [],
   "source": [
    "for (domain, label), (img_names, size, desired_size) in to_augment.iterrows():\n",
    "\n",
    "    copy_imgs_fn(img_names=img_names)\n",
    "\n",
    "    num_extra = desired_size % size\n",
    "    extra_imgs_names = np.random.choice(img_names, size=num_extra, replace=False)\n",
    "    augment_imgs_fn(img_names=extra_imgs_names, suffix=f\"_aug{0}\")  \n",
    "\n",
    "    num_iterations = desired_size // size\n",
    "    for i in range(1, num_iterations):\n",
    "        augment_imgs_fn(img_names=img_names, suffix=f\"_aug{i}\")"
   ]
  },
  {
   "attachments": {},
   "cell_type": "markdown",
   "metadata": {},
   "source": [
    "## Check Output"
   ]
  },
  {
   "cell_type": "code",
   "execution_count": null,
   "metadata": {},
   "outputs": [],
   "source": [
    "from pathlib import Path\n",
    "k = Path(cfg.paths.IMG_DIR[\"augmented_train\"]).glob(\"*.jpg\")\n",
    "len(list(k))"
   ]
  },
  {
   "cell_type": "code",
   "execution_count": null,
   "metadata": {},
   "outputs": [],
   "source": [
    "imgs_per_domain_label[\"desired size\"].sum()"
   ]
  }
 ],
 "metadata": {
  "kernelspec": {
   "display_name": "Python 3.10.6 ('skin_cancer')",
   "language": "python",
   "name": "python3"
  },
  "language_info": {
   "codemirror_mode": {
    "name": "ipython",
    "version": 3
   },
   "file_extension": ".py",
   "mimetype": "text/x-python",
   "name": "python",
   "nbconvert_exporter": "python",
   "pygments_lexer": "ipython3",
   "version": "3.10.6"
  },
  "vscode": {
   "interpreter": {
    "hash": "8faf78792ba83b5e5fb42215939bd717c7307b9d5737e597c662cebf863c6fa8"
   }
  }
 },
 "nbformat": 4,
 "nbformat_minor": 4
}
