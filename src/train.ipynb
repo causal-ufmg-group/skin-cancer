{
 "cells": [
  {
   "cell_type": "code",
   "execution_count": null,
   "metadata": {},
   "outputs": [],
   "source": [
    "import numpy as np\n",
    "import pandas as pd\n",
    "import matplotlib.pyplot as plt\n",
    "import sklearn.metrics as sklm\n",
    "\n",
    "import torch\n",
    "from torch import optim\n",
    "from torchvision import models\n",
    "\n",
    "#import neural_network as neural_network\n",
    "import robustdg_modified.algorithms as algo\n",
    "import robustdg_modified.config as cfg\n",
    "import robustdg_modified.dataset as dataset\n",
    "\n",
    "torch.__version__"
   ]
  },
  {
   "cell_type": "code",
   "execution_count": null,
   "metadata": {},
   "outputs": [],
   "source": [
    "import sys\n",
    "print(sys.version)\n",
    "print(f\"Num GPUs Available: {torch.cuda.device_count()}\")\n",
    "\n",
    "device = \"cuda:0\" if torch.cuda.is_available() else \"cpu\"\n",
    "torch_device = torch.device(device)\n",
    "torch_device"
   ]
  },
  {
   "cell_type": "markdown",
   "metadata": {},
   "source": [
    "## Reproducibility"
   ]
  },
  {
   "cell_type": "code",
   "execution_count": null,
   "metadata": {},
   "outputs": [],
   "source": [
    "SEED = 1\n",
    "\n",
    "data_loader_generator = torch.Generator()\n",
    "cfg.reproducibility.seed_everything(SEED, data_loader_generator)"
   ]
  },
  {
   "cell_type": "code",
   "execution_count": null,
   "metadata": {},
   "outputs": [],
   "source": [
    "# robustdg/notebooks/reproduce_results.pynb\n",
    "# \n",
    "# Exemple: robustdg/reproduce_scripts//mnist_run.py\n",
    "\n",
    "# COMMANDS: \n",
    "\n",
    "    # <command>: <default value> -> <documentation>\n",
    "\n",
    "    # img_c: 1 -> image channels\n",
    "\n",
    "    # method_name: erm_match -> training algorithm: erm_match, matchdg_ctr, matchdg_erm, hybrid\n",
    "\n",
    "    # penalty_ws: Penalty weight for Matching Loss. TODO: I think this is the lambda value in the paper.\n",
    "    \n",
    "    # match_case: 1 -> 0 (random match); 1 (perfect match). TODO: Figure it out what -1 means in this case.\n",
    "    # match_flag: 0 -> 0 (don't update match strategy); 1 (update it)\n",
    "    # match_interrupt: 5 -> number of epochs before inferring the match strategy\n",
    "\n",
    "    # perfect_match: 1 -> 0 (no perf match known); 1 (perf match known)\n",
    "    # match_func_aug_case: 0 -> 0 (evaluate match func on train domains); 1 (evaluate on self augmentations)\n",
    "\n",
    "    # pos_metric: l2 -> cost function to evaluate distance between two representations; Options: l1; l2; cos\n",
    "\n",
    "    # ctr_match_case: 0.01 -> match_case for matchdg_ctr phase\n",
    "    # ctr_match_flag: 1 -> match_flag for matchdg_ctr phase\n",
    "    # ctr_match_interrupt: 5 -> match_interrupt for matchdg_cte phase\n",
    "\n",
    "\n",
    "# RandMatch and PerfMatch -> \n",
    "    # python train.py <...> --img_c 3 --method_name erm_match --penalty_ws 10.0 --match_case <> --epochs 25\n",
    "        \n",
    "# MatchDG\n",
    "    # TRAIN\n",
    "        # python train.py <...> --method_name matchdg_ctr --match_case 0.0 --match_flag 1 --epochs 50 --batch_size 64 --pos_metric cos  --match_func_aug_case 1   \n",
    "    # ANYTHING OTHER THAN TRAIN\n",
    "        # python test.py <...> --method_name matchdg_erm --penalty_ws 0.1 --match_case -1 --ctr_match_case 0.0 --ctr_match_flag 1 --ctr_match_interrupt 5 --ctr_model_name resnet18 --epochs 25        "
   ]
  },
  {
   "cell_type": "code",
   "execution_count": null,
   "metadata": {},
   "outputs": [],
   "source": [
    "# robustdg/notebooks/robustdg_getting_started.ipynb\n",
    "\n",
    "# Baseline: Empirical Risk Minimization\n",
    "    # python train.py --dataset rot_mnist --method_name erm_match --match_case 0.0 --penalty_ws 0.0 --epochs 25\n",
    "\n",
    "# TODO: check how the code uses learned match function\n",
    "# Domain Generalization Via Causal Matching\n",
    "    # Match Function\n",
    "        # python train.py --dataset rot_mnist --method_name matchdg_ctr --match_case 0.0 --match_flag 1 --epochs 50 --batch_size 64 --pos_metric cos --match_func_aug_case 1\n",
    "    # Classifier regularized on the Match Function\n",
    "        # python train.py --dataset rot_mnist --method_name matchdg_erm --penalty_ws 0.1 --match_case -1 --ctr_match_case 0.0 --ctr_match_flag 1 --ctr_match_interrupt 5 --ctr_model_name resnet18 --epochs 25\n",
    "\n",
    "# Test methodologies:\n",
    "    # OOD accuracy\n",
    "    # Robustness to membership inference privacy attack"
   ]
  },
  {
   "cell_type": "markdown",
   "metadata": {},
   "source": [
    "## Dataset"
   ]
  },
  {
   "cell_type": "markdown",
   "metadata": {},
   "source": [
    "### Train Validation"
   ]
  },
  {
   "cell_type": "code",
   "execution_count": null,
   "metadata": {},
   "outputs": [],
   "source": [
    "labels_csv = pd.read_csv(cfg.paths.LABELS_CSV[\"train\"])\n",
    "domain_csv = pd.read_csv(cfg.paths.DOMAIN_TRAIN_CSV)\n",
    "\n",
    "train_index, validation_index = dataset.get_split_train_validation_index(labels_csv.index, 0.80)"
   ]
  },
  {
   "cell_type": "code",
   "execution_count": null,
   "metadata": {},
   "outputs": [],
   "source": [
    "train_labels_csv, train_domain_csv = dataset.get_only_desired_indexes(train_index, labels_csv, domain_csv)\n",
    "\n",
    "train_img_names = dataset.read.get_image_names(train_labels_csv)\n",
    "train_img_labels = dataset.read.get_one_hot_labels(train_labels_csv)\n",
    "train_img_domain = dataset.read.get_one_hot_domain(train_domain_csv)"
   ]
  },
  {
   "cell_type": "code",
   "execution_count": null,
   "metadata": {},
   "outputs": [],
   "source": [
    "val_labels_csv, val_domain_csv = dataset.get_only_desired_indexes(validation_index, labels_csv, domain_csv)\n",
    "\n",
    "val_img_names = dataset.read.get_image_names(val_labels_csv)\n",
    "val_img_labels = dataset.read.get_one_hot_labels(val_labels_csv)\n",
    "val_img_domain = dataset.read.get_one_hot_domain(val_domain_csv)"
   ]
  },
  {
   "cell_type": "markdown",
   "metadata": {},
   "source": [
    "### Test"
   ]
  },
  {
   "cell_type": "code",
   "execution_count": null,
   "metadata": {},
   "outputs": [],
   "source": [
    "test_labels_csv = pd.read_csv(cfg.paths.LABELS_CSV[\"test\"])\n",
    "\n",
    "test_img_names = dataset.read.get_image_names(test_labels_csv)\n",
    "test_img_labels = dataset.read.get_one_hot_labels(test_labels_csv)"
   ]
  },
  {
   "cell_type": "markdown",
   "metadata": {},
   "source": [
    "## Classes"
   ]
  },
  {
   "cell_type": "code",
   "execution_count": null,
   "metadata": {},
   "outputs": [],
   "source": [
    "CLASSES = dataset.utils.metadata.get_one_hot_encoded_names(train_img_labels)\n",
    "DOMAINS = dataset.utils.metadata.get_one_hot_encoded_names(train_img_domain)\n",
    "\n",
    "CLASSES, DOMAINS"
   ]
  },
  {
   "cell_type": "code",
   "execution_count": null,
   "metadata": {},
   "outputs": [],
   "source": [
    "IMG_CHANNELS, IMG_HEIGHT, IMG_WIDTH = dataset.utils.metadata.get_image_dimensions(cfg.paths.IMG_DIR[\"train\"])\n",
    "IMG_CHANNELS, IMG_HEIGHT, IMG_WIDTH"
   ]
  },
  {
   "cell_type": "markdown",
   "metadata": {},
   "source": [
    "## RobustDG Parameters"
   ]
  },
  {
   "cell_type": "code",
   "execution_count": null,
   "metadata": {},
   "outputs": [],
   "source": [
    "args = cfg.args_mock.ArgsMock(\n",
    "    out_classes = CLASSES.size,\n",
    "    img_c = IMG_CHANNELS,\n",
    "    img_h = IMG_HEIGHT,\n",
    "    img_w = IMG_WIDTH,\n",
    "    batch_size = cfg.hparams.BATCH_SIZE,\n",
    "    lr = cfg.hparams.LEARNING_RATE,\n",
    "    weight_decay = cfg.hparams.WEIGHT_DECAY,\n",
    ")"
   ]
  },
  {
   "cell_type": "markdown",
   "metadata": {},
   "source": [
    "## Dataset"
   ]
  },
  {
   "cell_type": "code",
   "execution_count": null,
   "metadata": {},
   "outputs": [],
   "source": [
    "train = dataset.create_robustdg_train_dataset(\n",
    "    args = args, \n",
    "    img_dir = cfg.paths.IMG_DIR[\"train\"], \n",
    "    int_to_img_names = train_img_names, \n",
    "    labels_df = train_img_labels, \n",
    "    domain_df = train_img_domain,\n",
    "    transform = None,\n",
    ")\n",
    "\n",
    "validation = dataset.create_robustdg_train_dataset(\n",
    "    args = args, \n",
    "    img_dir = cfg.paths.IMG_DIR[\"train\"], \n",
    "    int_to_img_names = val_img_names, \n",
    "    labels_df = val_img_labels, \n",
    "    domain_df = val_img_domain,\n",
    "    transform = None,\n",
    ")\n",
    "\n",
    "test = dataset.create_robustdg_test_dataset(\n",
    "    args=args,\n",
    "    img_dir = cfg.paths.IMG_DIR[\"test\"], \n",
    "    int_to_img_names = test_img_names, \n",
    "    labels_df = test_img_labels, \n",
    "    transform = None,\n",
    ")"
   ]
  },
  {
   "cell_type": "code",
   "execution_count": null,
   "metadata": {},
   "outputs": [],
   "source": [
    "from torch.utils.data import DataLoader\n",
    "\n",
    "train_dataloader = DataLoader(\n",
    "    train, \n",
    "    batch_size=args.batch_size, \n",
    "    shuffle=True, \n",
    "    worker_init_fn=cfg.reproducibility.seed_worker, \n",
    "    generator=data_loader_generator\n",
    ")\n",
    "\n",
    "val_dataloader = DataLoader(\n",
    "    validation, \n",
    "    batch_size=args.batch_size, \n",
    "    shuffle=False, \n",
    "    worker_init_fn=cfg.reproducibility.seed_worker, \n",
    "    generator=data_loader_generator\n",
    ")\n",
    "\n",
    "test_dataloader = DataLoader(\n",
    "    test, \n",
    "    batch_size=args.batch_size, \n",
    "    shuffle=False, \n",
    "    worker_init_fn=cfg.reproducibility.seed_worker, \n",
    "    generator=data_loader_generator\n",
    ")\n",
    "\n",
    "data_loaders = {\n",
    "    \"train\": train_dataloader,\n",
    "    \"validation\": val_dataloader,\n",
    "    \"test\": test_dataloader,\n",
    "}"
   ]
  },
  {
   "cell_type": "markdown",
   "metadata": {},
   "source": [
    "## Modeling the CNN"
   ]
  },
  {
   "cell_type": "code",
   "execution_count": null,
   "metadata": {},
   "outputs": [],
   "source": [
    "# See https://pytorch.org/tutorials/beginner/finetuning_torchvision_models_tutorial.html for more information\n",
    "\n",
    "model = models.resnet18(weights=models.ResNet18_Weights.IMAGENET1K_V1) # pre-trained values\n",
    "\n",
    "model.fc = torch.nn.Linear(\n",
    "    in_features=model.fc.in_features,  # original in_features values\n",
    "    out_features=CLASSES.size  # setting our number of classes as out_features\n",
    ").to(torch_device)\n",
    "\n",
    "# print(model)"
   ]
  },
  {
   "cell_type": "code",
   "execution_count": null,
   "metadata": {},
   "outputs": [],
   "source": [
    "# TODO: Make sure that only desired parameters are being optimized when fine-tuning\n",
    "optimizer = optim.SGD(\n",
    "    filter(lambda param: param.requires_grad, model.parameters()), # filter only parameters which should change\n",
    "    lr = args.lr, \n",
    "    weight_decay = args.weight_decay, \n",
    "    momentum = cfg.hparams.MOMENTUM, \n",
    "    nesterov = True,\n",
    ")"
   ]
  },
  {
   "cell_type": "markdown",
   "metadata": {},
   "source": [
    "## Algorithm"
   ]
  },
  {
   "cell_type": "code",
   "execution_count": null,
   "metadata": {},
   "outputs": [],
   "source": [
    "run = 0"
   ]
  },
  {
   "cell_type": "code",
   "execution_count": null,
   "metadata": {},
   "outputs": [],
   "source": [
    "algorithm = algo.ErmMatch(\n",
    "    args,\n",
    "    run,\n",
    "    torch_device,\n",
    "    cfg.paths.LOG_DIR,\n",
    "    model,\n",
    "    optimizer,\n",
    "    data_loaders,\n",
    ")"
   ]
  },
  {
   "cell_type": "markdown",
   "metadata": {},
   "source": [
    "## Metrics"
   ]
  }
 ],
 "metadata": {
  "kernelspec": {
   "display_name": "Python 3.10.6 ('skin_cancer')",
   "language": "python",
   "name": "python3"
  },
  "language_info": {
   "codemirror_mode": {
    "name": "ipython",
    "version": 3
   },
   "file_extension": ".py",
   "mimetype": "text/x-python",
   "name": "python",
   "nbconvert_exporter": "python",
   "pygments_lexer": "ipython3",
   "version": "3.10.6"
  },
  "vscode": {
   "interpreter": {
    "hash": "8faf78792ba83b5e5fb42215939bd717c7307b9d5737e597c662cebf863c6fa8"
   }
  }
 },
 "nbformat": 4,
 "nbformat_minor": 4
}
