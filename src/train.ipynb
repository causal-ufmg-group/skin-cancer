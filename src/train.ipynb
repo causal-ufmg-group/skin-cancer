{
 "cells": [
  {
   "cell_type": "code",
   "execution_count": null,
   "metadata": {},
   "outputs": [],
   "source": [
    "import numpy as np\n",
    "import pandas as pd\n",
    "\n",
    "import torch\n",
    "from torch import optim\n",
    "\n",
    "import robustdg_modified.models as models\n",
    "import robustdg_modified.algorithms as algo\n",
    "import robustdg_modified.config as cfg\n",
    "import robustdg_modified.dataset as dataset\n",
    "\n",
    "torch.__version__"
   ]
  },
  {
   "cell_type": "code",
   "execution_count": null,
   "metadata": {},
   "outputs": [],
   "source": [
    "import sys\n",
    "print(sys.version)\n",
    "print(f\"Num GPUs Available: {torch.cuda.device_count()}\")\n",
    "\n",
    "device = \"cuda:0\" if torch.cuda.is_available() else \"cpu\"\n",
    "torch_device = torch.device(device)\n",
    "torch_device"
   ]
  },
  {
   "cell_type": "markdown",
   "metadata": {},
   "source": [
    "## Reproducibility"
   ]
  },
  {
   "cell_type": "code",
   "execution_count": null,
   "metadata": {},
   "outputs": [],
   "source": [
    "SEED = 1\n",
    "\n",
    "data_loader_generator = torch.Generator()\n",
    "cfg.reproducibility.seed_everything(SEED, data_loader_generator)"
   ]
  },
  {
   "cell_type": "markdown",
   "metadata": {},
   "source": [
    "## Dataset"
   ]
  },
  {
   "cell_type": "markdown",
   "metadata": {},
   "source": [
    "### Train Validation"
   ]
  },
  {
   "cell_type": "code",
   "execution_count": null,
   "metadata": {},
   "outputs": [],
   "source": [
    "labels_csv = pd.read_csv(cfg.paths.LABELS_CSV[\"train\"])\n",
    "domain_csv = pd.read_csv(cfg.paths.DOMAIN_TRAIN_CSV)\n",
    "\n",
    "train_index, validation_index = dataset.get_split_train_validation_index(labels_csv.index, 0.80)"
   ]
  },
  {
   "cell_type": "code",
   "execution_count": null,
   "metadata": {},
   "outputs": [],
   "source": [
    "train_labels_csv, train_domain_csv = dataset.get_only_desired_indexes(train_index, labels_csv, domain_csv)\n",
    "\n",
    "train_img_names = dataset.read.get_image_names(train_labels_csv)\n",
    "train_img_labels = dataset.read.get_one_hot_labels(train_labels_csv)\n",
    "train_img_domain = dataset.read.get_one_hot_domain(train_domain_csv)"
   ]
  },
  {
   "cell_type": "code",
   "execution_count": null,
   "metadata": {},
   "outputs": [],
   "source": [
    "val_labels_csv, val_domain_csv = dataset.get_only_desired_indexes(validation_index, labels_csv, domain_csv)\n",
    "\n",
    "val_img_names = dataset.read.get_image_names(val_labels_csv)\n",
    "val_img_labels = dataset.read.get_one_hot_labels(val_labels_csv)\n",
    "val_img_domain = dataset.read.get_one_hot_domain(val_domain_csv)"
   ]
  },
  {
   "cell_type": "markdown",
   "metadata": {},
   "source": [
    "### Test"
   ]
  },
  {
   "cell_type": "code",
   "execution_count": null,
   "metadata": {},
   "outputs": [],
   "source": [
    "test_labels_csv = pd.read_csv(cfg.paths.LABELS_CSV[\"test\"])\n",
    "\n",
    "test_img_names = dataset.read.get_image_names(test_labels_csv)\n",
    "test_img_labels = dataset.read.get_one_hot_labels(test_labels_csv)"
   ]
  },
  {
   "cell_type": "markdown",
   "metadata": {},
   "source": [
    "## Classes"
   ]
  },
  {
   "cell_type": "code",
   "execution_count": null,
   "metadata": {},
   "outputs": [],
   "source": [
    "CLASSES = dataset.utils.metadata.get_one_hot_encoded_names(train_img_labels)\n",
    "DOMAINS = dataset.utils.metadata.get_one_hot_encoded_names(train_img_domain)\n",
    "\n",
    "CLASSES, DOMAINS"
   ]
  },
  {
   "cell_type": "code",
   "execution_count": null,
   "metadata": {},
   "outputs": [],
   "source": [
    "IMG_CHANNELS, IMG_HEIGHT, IMG_WIDTH = dataset.utils.metadata.get_image_dimensions(cfg.paths.IMG_DIR[\"train\"])\n",
    "IMG_CHANNELS, IMG_HEIGHT, IMG_WIDTH"
   ]
  },
  {
   "cell_type": "markdown",
   "metadata": {},
   "source": [
    "## RobustDG Parameters"
   ]
  },
  {
   "cell_type": "code",
   "execution_count": null,
   "metadata": {},
   "outputs": [],
   "source": [
    "args = cfg.args_mock.ArgsMock(\n",
    "    out_classes = CLASSES.size,\n",
    "    img_c = IMG_CHANNELS,\n",
    "    img_h = IMG_HEIGHT,\n",
    "    img_w = IMG_WIDTH,\n",
    "    batch_size = cfg.hparams.BATCH_SIZE,\n",
    "    lr = cfg.hparams.LEARNING_RATE,\n",
    "    weight_decay = cfg.hparams.WEIGHT_DECAY,\n",
    ")"
   ]
  },
  {
   "cell_type": "markdown",
   "metadata": {},
   "source": [
    "## Dataset"
   ]
  },
  {
   "cell_type": "code",
   "execution_count": null,
   "metadata": {},
   "outputs": [],
   "source": [
    "train = dataset.create_robustdg_train_dataset(\n",
    "    args = args, \n",
    "    img_dir = cfg.paths.IMG_DIR[\"train\"], \n",
    "    int_to_img_names = train_img_names, \n",
    "    labels_df = train_img_labels, \n",
    "    domain_df = train_img_domain,\n",
    "    transform = None,\n",
    ")\n",
    "\n",
    "validation = dataset.create_robustdg_train_dataset(\n",
    "    args = args, \n",
    "    img_dir = cfg.paths.IMG_DIR[\"train\"], \n",
    "    int_to_img_names = val_img_names, \n",
    "    labels_df = val_img_labels, \n",
    "    domain_df = val_img_domain,\n",
    "    transform = None,\n",
    ")\n",
    "\n",
    "test = dataset.create_robustdg_test_dataset(\n",
    "    args=args,\n",
    "    img_dir = cfg.paths.IMG_DIR[\"test\"], \n",
    "    int_to_img_names = test_img_names, \n",
    "    labels_df = test_img_labels, \n",
    "    transform = None,\n",
    ")"
   ]
  },
  {
   "cell_type": "code",
   "execution_count": null,
   "metadata": {},
   "outputs": [],
   "source": [
    "from torch.utils.data import DataLoader\n",
    "\n",
    "train_dataloader = DataLoader(\n",
    "    train, \n",
    "    batch_size=args.batch_size, \n",
    "    shuffle=True, \n",
    "    worker_init_fn=cfg.reproducibility.seed_worker, \n",
    "    generator=data_loader_generator\n",
    ")\n",
    "\n",
    "val_dataloader = DataLoader(\n",
    "    validation, \n",
    "    batch_size=args.batch_size, \n",
    "    shuffle=False, \n",
    "    worker_init_fn=cfg.reproducibility.seed_worker, \n",
    "    generator=data_loader_generator\n",
    ")\n",
    "\n",
    "test_dataloader = DataLoader(\n",
    "    test, \n",
    "    batch_size=args.batch_size, \n",
    "    shuffle=False, \n",
    "    worker_init_fn=cfg.reproducibility.seed_worker, \n",
    "    generator=data_loader_generator\n",
    ")\n",
    "\n",
    "data_loaders = {\n",
    "    \"train\": train_dataloader,\n",
    "    \"validation\": val_dataloader,\n",
    "    \"test\": test_dataloader,\n",
    "}"
   ]
  },
  {
   "cell_type": "markdown",
   "metadata": {},
   "source": [
    "## Modeling the CNN"
   ]
  },
  {
   "cell_type": "code",
   "execution_count": null,
   "metadata": {},
   "outputs": [],
   "source": [
    "model = models.PreTrainedResNet18(num_classes=CLASSES.size).to(torch_device)\n",
    "\n",
    "# set args.model_name to the correct model\n",
    "args.model_name = type(model).__name__\n",
    "args.ctr_model_name = args.model_name\n",
    "\n",
    "print(model)"
   ]
  },
  {
   "cell_type": "code",
   "execution_count": null,
   "metadata": {},
   "outputs": [],
   "source": [
    "optimizer = optim.SGD(\n",
    "    models.utils.find_parameters_to_be_trained(model),\n",
    "    lr = args.lr, \n",
    "    weight_decay = args.weight_decay, \n",
    "    momentum = cfg.hparams.MOMENTUM, \n",
    "    nesterov = True,\n",
    ")\n",
    "\n",
    "# set args.opt to the correct model\n",
    "args.opt = type(optimizer).__name__"
   ]
  },
  {
   "cell_type": "markdown",
   "metadata": {},
   "source": [
    "## Algorithm"
   ]
  },
  {
   "cell_type": "markdown",
   "metadata": {},
   "source": [
    "> To avoid using parameters you don't want, after changing which algorithm you'd like to run, run all cells below \"RobustgDG Parameters\" again."
   ]
  },
  {
   "cell_type": "code",
   "execution_count": null,
   "metadata": {},
   "outputs": [],
   "source": [
    "# Configurations options can be read from algorithms module: robustdg_modified/config/algorithms.py\n",
    "cfg.algorithms.set_configuration_parameters(\n",
    "    args, cfg.algorithms.PERFECT_MATCH_CONFIG\n",
    ")"
   ]
  },
  {
   "cell_type": "code",
   "execution_count": null,
   "metadata": {},
   "outputs": [],
   "source": [
    "run = 0\n",
    "\n",
    "algorithm = algo.ErmMatch(\n",
    "    args,\n",
    "    run,\n",
    "    torch_device,\n",
    "    cfg.paths.LOG_DIR,\n",
    "    model,\n",
    "    optimizer,\n",
    "    data_loaders,\n",
    ")"
   ]
  },
  {
   "cell_type": "code",
   "execution_count": null,
   "metadata": {},
   "outputs": [],
   "source": [
    "# TODO: add some print statements so that we can follow progress\n",
    "algorithm.train()"
   ]
  },
  {
   "cell_type": "code",
   "execution_count": null,
   "metadata": {},
   "outputs": [],
   "source": [
    "# TODO: Algorithms seem to test automatically during training. Maybe it should be changed\n",
    "best_method = np.argmax(algorithm.val_acc)\n",
    "\n",
    "print(\n",
    "    f\"Validation Acc: {algorithm.val_acc[best_method]}.\\n\"\n",
    "    f\"Test Acc: {algorithm.final_acc[best_method]}\"\n",
    ")"
   ]
  }
 ],
 "metadata": {
  "kernelspec": {
   "display_name": "Python 3.10.6 ('skin_cancer')",
   "language": "python",
   "name": "python3"
  },
  "language_info": {
   "codemirror_mode": {
    "name": "ipython",
    "version": 3
   },
   "file_extension": ".py",
   "mimetype": "text/x-python",
   "name": "python",
   "nbconvert_exporter": "python",
   "pygments_lexer": "ipython3",
   "version": "3.10.6"
  },
  "vscode": {
   "interpreter": {
    "hash": "8faf78792ba83b5e5fb42215939bd717c7307b9d5737e597c662cebf863c6fa8"
   }
  }
 },
 "nbformat": 4,
 "nbformat_minor": 4
}
