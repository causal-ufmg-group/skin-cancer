{
 "cells": [
  {
   "cell_type": "code",
   "execution_count": null,
   "metadata": {},
   "outputs": [],
   "source": [
    "import PIL\n",
    "import numpy as np\n",
    "import pandas as pd\n",
    "import matplotlib.pyplot as plt\n",
    "import sklearn.metrics as sklm\n",
    "\n",
    "import torch\n",
    "import pytorch_lightning as pl\n",
    "\n",
    "import dataset\n",
    "import neural_network\n",
    "import config as cfg\n",
    "\n",
    "torch.__version__"
   ]
  },
  {
   "cell_type": "code",
   "execution_count": null,
   "metadata": {},
   "outputs": [],
   "source": [
    "import sys\n",
    "print(sys.version)"
   ]
  },
  {
   "cell_type": "markdown",
   "metadata": {},
   "source": [
    "## Parameters"
   ]
  },
  {
   "cell_type": "code",
   "execution_count": null,
   "metadata": {},
   "outputs": [],
   "source": [
    "print(f\"Num GPUs Available: {torch.cuda.device_count()}\")"
   ]
  },
  {
   "cell_type": "markdown",
   "metadata": {},
   "source": [
    "## Classes"
   ]
  },
  {
   "cell_type": "code",
   "execution_count": null,
   "metadata": {},
   "outputs": [],
   "source": [
    "CLASSES = dataset.metadata.get_classes(cfg.paths.LABELS_CSV[\"train\"])  \n",
    "CLASSES, CLASSES.size"
   ]
  },
  {
   "cell_type": "markdown",
   "metadata": {},
   "source": [
    "## Preprocessing Dataset"
   ]
  },
  {
   "cell_type": "code",
   "execution_count": null,
   "metadata": {},
   "outputs": [],
   "source": [
    "train_filenames = cfg.paths.IMG_DIR[\"train\"].glob(\"*.jpg\")\n",
    "\n",
    "filename = next(train_filenames)\n",
    "PIL.Image.open(filename)"
   ]
  },
  {
   "cell_type": "code",
   "execution_count": null,
   "metadata": {},
   "outputs": [],
   "source": [
    "IMG_CHANNELS, IMG_HEIGHT, IMG_WIDTH = dataset.metadata.get_image_dimensions(cfg.paths.IMG_DIR[\"train\"])\n",
    "IMG_CHANNELS, IMG_HEIGHT, IMG_WIDTH"
   ]
  },
  {
   "cell_type": "code",
   "execution_count": null,
   "metadata": {},
   "outputs": [],
   "source": [
    "train = dataset.SkinCancerDataset(cfg.paths.LABELS_CSV[\"train\"], cfg.paths.IMG_DIR[\"train\"])\n",
    "dataset.plot_some_samples(2, 2, train, CLASSES)"
   ]
  },
  {
   "cell_type": "code",
   "execution_count": null,
   "metadata": {},
   "outputs": [],
   "source": [
    "test = dataset.SkinCancerDataset(cfg.paths.LABELS_CSV[\"test\"], cfg.paths.IMG_DIR[\"test\"])\n",
    "dataset.plot_some_samples(2, 2, test, CLASSES)"
   ]
  },
  {
   "cell_type": "markdown",
   "metadata": {},
   "source": [
    "## Modeling the CNN"
   ]
  },
  {
   "cell_type": "code",
   "execution_count": null,
   "metadata": {},
   "outputs": [],
   "source": [
    "SEED = 0\n",
    "\n",
    "pl.seed_everything(SEED, workers=True)"
   ]
  },
  {
   "cell_type": "code",
   "execution_count": null,
   "metadata": {},
   "outputs": [],
   "source": [
    "# I think it should be rescaled here\n",
    "# model.add(layers.experimental.preprocessing.Rescaling(1./255, input_shape=(img_height, img_width, 3)))\n",
    "data_module = dataset.SkinCancerDataModule(\n",
    "    cfg.paths.LABELS_CSV,\n",
    "    cfg.paths.IMG_DIR,\n",
    "    cfg.hparams.BATCH_SIZE,\n",
    "    cfg.hparams.DATALOADER_NUM_WORKERS,\n",
    "    transform=None\n",
    ")"
   ]
  },
  {
   "cell_type": "code",
   "execution_count": null,
   "metadata": {},
   "outputs": [],
   "source": [
    "model = neural_network.ConvNetwork(CLASSES.size, cfg.hparams.DROPOUT_RATE)\n",
    "print(model)"
   ]
  },
  {
   "cell_type": "code",
   "execution_count": null,
   "metadata": {},
   "outputs": [],
   "source": [
    "model_module = neural_network.NetworkModule(\n",
    "    model,\n",
    "    IMG_CHANNELS,\n",
    "    IMG_HEIGHT,\n",
    "    IMG_WIDTH,\n",
    "    CLASSES.size,\n",
    "    cfg.hparams.LEARNING_RATE\n",
    ")"
   ]
  },
  {
   "cell_type": "code",
   "execution_count": null,
   "metadata": {},
   "outputs": [],
   "source": [
    "from pytorch_lightning.callbacks import EarlyStopping, ModelCheckpoint\n",
    "from pytorch_lightning.callbacks.progress import TQDMProgressBar\n",
    "\n",
    "progress_bar = TQDMProgressBar()\n",
    "validation = EarlyStopping(\"val_loss\")\n",
    "checkpoint = ModelCheckpoint(save_top_k=3, monitor=\"val_loss\")\n",
    "\n",
    "trainer_callbacks = [progress_bar, validation, checkpoint]"
   ]
  },
  {
   "cell_type": "code",
   "execution_count": null,
   "metadata": {},
   "outputs": [],
   "source": [
    "from pytorch_lightning.loggers import CSVLogger\n",
    "\n",
    "logger = CSVLogger(cfg.paths.LOG_DIR)"
   ]
  },
  {
   "cell_type": "code",
   "execution_count": null,
   "metadata": {},
   "outputs": [],
   "source": [
    "trainer = pl.Trainer(\n",
    "    min_epochs=5,\n",
    "    max_epochs=20,\n",
    "    accelerator=\"auto\",\n",
    "    devices=\"auto\",\n",
    "    logger=logger,\n",
    "    callbacks=trainer_callbacks,\n",
    "    deterministic=True,\n",
    "    # mostly parameters below can be removed\n",
    "    # when we want to fully train our network\n",
    "    limit_train_batches=0.05,\n",
    "    limit_val_batches=0.1,\n",
    "    log_every_n_steps=25,\n",
    ")\n",
    "\n",
    "trainer.fit(model=model_module, datamodule=data_module)"
   ]
  },
  {
   "cell_type": "markdown",
   "metadata": {},
   "source": [
    "## Metrics"
   ]
  },
  {
   "cell_type": "code",
   "execution_count": null,
   "metadata": {},
   "outputs": [],
   "source": [
    "checkpoint.best_k_models"
   ]
  },
  {
   "cell_type": "code",
   "execution_count": null,
   "metadata": {},
   "outputs": [],
   "source": [
    "# each time you train a neural network\n",
    "# it logs the information to a new version folder\n",
    "version = 0\n",
    "VERSION_DIR = cfg.paths.LOG_DIR / f\"lightning_logs/version_{version}\""
   ]
  },
  {
   "cell_type": "code",
   "execution_count": null,
   "metadata": {},
   "outputs": [],
   "source": [
    "METRICS_PATH = VERSION_DIR / \"metrics.csv\"\n",
    "\n",
    "metrics = pd.read_csv(METRICS_PATH).set_index([\"epoch\", \"step\"])\n",
    "\n",
    "train = metrics[[\"train_loss_epoch\", \"train_acc_epoch\"]].dropna()\n",
    "validation = metrics[[\"val_loss\", \"val_acc\"]].dropna()\n",
    "\n",
    "validation"
   ]
  },
  {
   "cell_type": "code",
   "execution_count": null,
   "metadata": {},
   "outputs": [],
   "source": [
    "epochs = train.index.get_level_values(\"epoch\")\n",
    "\n",
    "plt.plot(epochs, train[\"train_acc_epoch\"], label=\"accuracy\")\n",
    "plt.plot(epochs, validation[\"val_acc\"], label = \"val_accuracy\")\n",
    "plt.xlabel(\"Epoch\")\n",
    "plt.ylabel(\"Accuracy\")\n",
    "plt.legend(loc=\"lower right\")"
   ]
  },
  {
   "cell_type": "markdown",
   "metadata": {},
   "source": [
    "## Confusion Matrix"
   ]
  },
  {
   "cell_type": "code",
   "execution_count": null,
   "metadata": {},
   "outputs": [],
   "source": [
    "model_module.clear_test_predictions_variables()\n",
    "trainer.test(model_module, data_module)"
   ]
  },
  {
   "cell_type": "code",
   "execution_count": null,
   "metadata": {},
   "outputs": [],
   "source": [
    "true_labels_pos = torch.concat(model_module.test_expected).cpu()\n",
    "\n",
    "predicted_probabilities = torch.concat(model_module.test_probabilities)\n",
    "predicted_labels_pos = predicted_probabilities.argmax(dim=1).cpu()\n",
    "\n",
    "true_labels = CLASSES[true_labels_pos]\n",
    "predicted_labels = CLASSES[predicted_labels_pos]"
   ]
  },
  {
   "cell_type": "code",
   "execution_count": null,
   "metadata": {},
   "outputs": [],
   "source": [
    "confusion_matrix = pd.crosstab(true_labels, predicted_labels, rownames=[\"Actual\"], colnames=[\"Predicted\"])\n",
    "confusion_matrix"
   ]
  },
  {
   "cell_type": "code",
   "execution_count": null,
   "metadata": {},
   "outputs": [],
   "source": [
    "report = sklm.classification_report(true_labels_pos, predicted_labels_pos, target_names=CLASSES)\n",
    "print(report)"
   ]
  }
 ],
 "metadata": {
  "kernelspec": {
   "display_name": "Python 3.10.6 ('skin_cancer')",
   "language": "python",
   "name": "python3"
  },
  "language_info": {
   "codemirror_mode": {
    "name": "ipython",
    "version": 3
   },
   "file_extension": ".py",
   "mimetype": "text/x-python",
   "name": "python",
   "nbconvert_exporter": "python",
   "pygments_lexer": "ipython3",
   "version": "3.10.6"
  },
  "vscode": {
   "interpreter": {
    "hash": "8faf78792ba83b5e5fb42215939bd717c7307b9d5737e597c662cebf863c6fa8"
   }
  }
 },
 "nbformat": 4,
 "nbformat_minor": 4
}
