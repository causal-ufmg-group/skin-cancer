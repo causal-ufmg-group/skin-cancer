{
 "cells": [
  {
   "cell_type": "code",
   "execution_count": null,
   "metadata": {},
   "outputs": [],
   "source": [
    "import PIL\n",
    "import numpy as np\n",
    "import pandas as pd\n",
    "import matplotlib.pyplot as plt\n",
    "import sklearn.metrics as sklm\n",
    "\n",
    "import torch\n",
    "\n",
    "import robustdg_modified.models as models\n",
    "import robustdg_modified.config as cfg\n",
    "import robustdg_modified.dataset as dataset\n",
    "\n",
    "\n",
    "torch.__version__"
   ]
  },
  {
   "cell_type": "code",
   "execution_count": null,
   "metadata": {},
   "outputs": [],
   "source": [
    "import sys\n",
    "print(sys.version)\n",
    "print(f\"Num GPUs Available: {torch.cuda.device_count()}\")\n",
    "\n",
    "device = \"cuda:0\" if torch.cuda.is_available() else \"cpu\"\n",
    "torch_device = torch.device(device)\n",
    "torch_device"
   ]
  },
  {
   "cell_type": "markdown",
   "metadata": {},
   "source": [
    "## Reproducibility"
   ]
  },
  {
   "cell_type": "code",
   "execution_count": null,
   "metadata": {},
   "outputs": [],
   "source": [
    "SEED = 1\n",
    "\n",
    "data_loader_generator = torch.Generator()\n",
    "cfg.reproducibility.seed_everything(SEED, data_loader_generator)\n",
    "cfg.reproducibility.set_env_variable_for_deterministic_algorithm()"
   ]
  },
  {
   "cell_type": "markdown",
   "metadata": {},
   "source": [
    "## Classes"
   ]
  },
  {
   "cell_type": "code",
   "execution_count": null,
   "metadata": {},
   "outputs": [],
   "source": [
    "train_labels_csv = pd.read_csv(cfg.paths.LABELS_CSV[\"augmented_train\"])\n",
    "train_img_labels = dataset.read.get_one_hot_labels(train_labels_csv)\n",
    "\n",
    "CLASSES = dataset.utils.metadata.get_one_hot_encoded_names(train_img_labels)\n",
    "CLASSES"
   ]
  },
  {
   "cell_type": "code",
   "execution_count": null,
   "metadata": {},
   "outputs": [],
   "source": [
    "IMG_CHANNELS, IMG_HEIGHT, IMG_WIDTH = dataset.utils.metadata.get_image_dimensions(cfg.paths.IMG_DIR[\"train\"])\n",
    "IMG_CHANNELS, IMG_HEIGHT, IMG_WIDTH"
   ]
  },
  {
   "cell_type": "markdown",
   "metadata": {},
   "source": [
    "## Dataset"
   ]
  },
  {
   "cell_type": "code",
   "execution_count": null,
   "metadata": {},
   "outputs": [],
   "source": [
    "import torchvision.transforms as T"
   ]
  },
  {
   "cell_type": "markdown",
   "metadata": {},
   "source": [
    "### Test"
   ]
  },
  {
   "cell_type": "code",
   "execution_count": null,
   "metadata": {},
   "outputs": [],
   "source": [
    "test_labels_csv = pd.read_csv(cfg.paths.LABELS_CSV[\"test\"])\n",
    "\n",
    "test_img_names = dataset.read.get_image_names(test_labels_csv)\n",
    "test_img_labels = dataset.read.get_one_hot_labels(test_labels_csv)"
   ]
  },
  {
   "cell_type": "code",
   "execution_count": null,
   "metadata": {},
   "outputs": [],
   "source": [
    "# Pytorch Vision Preprocess Transforms\n",
    "# https://pytorch.org/hub/pytorch_vision_densenet/\n",
    "VISION_PREPROCESS = [ \n",
    "    T.Resize(256),\n",
    "    T.CenterCrop(224),\n",
    "    T.Normalize(mean=[0.485, 0.456, 0.406], std=[0.229, 0.224, 0.225]),\n",
    "]\n",
    "\n",
    "test = dataset.create_robustdg_test_dataset(\n",
    "    args=cfg.args_mock.ArgsMock(),\n",
    "    img_dir = cfg.paths.IMG_DIR[\"test\"], \n",
    "    int_to_img_names = test_img_names, \n",
    "    labels_df = test_img_labels, \n",
    "    transform = T.Compose(VISION_PREPROCESS)\n",
    ")\n",
    "\n",
    "from torch.utils.data import DataLoader\n",
    "\n",
    "test_dataloader = DataLoader(\n",
    "    test, \n",
    "    batch_size=16, \n",
    "    shuffle=False, \n",
    "    worker_init_fn=cfg.reproducibility.seed_worker, \n",
    "    generator=data_loader_generator\n",
    ")"
   ]
  },
  {
   "cell_type": "markdown",
   "metadata": {},
   "source": [
    "## Modeling the CNN"
   ]
  },
  {
   "cell_type": "code",
   "execution_count": null,
   "metadata": {},
   "outputs": [],
   "source": [
    "# You should look in the directory cfg.paths.CHECKPOINT_LOG_DIR for desired model to be loaded.\n",
    "# No need to provide the file extension, it is assumed to be the default for pytorch.\n",
    "filename = \"Model_0.1_1.0_1.0_5_0_NO_DOMAIN_0__l2_PreTrainedDenseNet121\""
   ]
  },
  {
   "cell_type": "code",
   "execution_count": null,
   "metadata": {},
   "outputs": [],
   "source": [
    "model = models.PreTrainedDenseNet121(CLASSES.size)\n",
    "\n",
    "model.load_state_dict(torch.load(cfg.paths.CHECKPOINT_LOG_DIR / f\"{filename}.pth\"))\n",
    "print(model)"
   ]
  },
  {
   "cell_type": "markdown",
   "metadata": {},
   "source": [
    "## Metrics"
   ]
  },
  {
   "cell_type": "code",
   "execution_count": null,
   "metadata": {},
   "outputs": [],
   "source": [
    "correct = []\n",
    "predicted = []\n",
    "\n",
    "for idx, (imgs, one_hot_labels, _, _, _) in enumerate(test_dataloader):\n",
    "\n",
    "    predicted.append(model(imgs))\n",
    "    correct.append(one_hot_labels)\n",
    "\n",
    "predicted = torch.concat(predicted)\n",
    "correct = torch.concat(correct)"
   ]
  },
  {
   "cell_type": "markdown",
   "metadata": {},
   "source": [
    "## Confusion Matrix"
   ]
  },
  {
   "cell_type": "code",
   "execution_count": null,
   "metadata": {},
   "outputs": [],
   "source": [
    "true_labels_pos = correct.argmax(dim=1).cpu()\n",
    "\n",
    "predicted_probabilities = predicted\n",
    "predicted_labels_pos = predicted_probabilities.argmax(dim=1).cpu()\n",
    "\n",
    "true_labels = CLASSES[true_labels_pos]\n",
    "predicted_labels = CLASSES[predicted_labels_pos]"
   ]
  },
  {
   "cell_type": "code",
   "execution_count": null,
   "metadata": {},
   "outputs": [],
   "source": [
    "confusion_matrix = pd.crosstab(true_labels, predicted_labels, rownames=[\"Actual\"], colnames=[\"Predicted\"])\n",
    "confusion_matrix"
   ]
  },
  {
   "cell_type": "code",
   "execution_count": null,
   "metadata": {},
   "outputs": [],
   "source": [
    "report = sklm.classification_report(true_labels_pos, predicted_labels_pos, target_names=CLASSES)\n",
    "print(report)"
   ]
  },
  {
   "cell_type": "markdown",
   "id": "caae43e3",
   "metadata": {},
   "source": [
    "## ROC"
   ]
  },
  {
   "cell_type": "code",
   "execution_count": null,
   "id": "c5b85546",
   "metadata": {},
   "outputs": [],
   "source": [
    "fpr, tpr, roc_auc = {}, {}, {}\n",
    "\n",
    "for i in range(CLASSES.size):\n",
    "\n",
    "    expected = (true_labels_pos == i).type(torch.int64)  # one for i-th class, zero for the others\n",
    "    probabilities = predicted_probabilities[:, i] # probabilities for prediction i-th class\n",
    "\n",
    "    fpr[i], tpr[i], _ = sklm.roc_curve(expected.detach().numpy(), probabilities.detach().numpy())\n",
    "    roc_auc[i] = sklm.auc(fpr[i], tpr[i])"
   ]
  },
  {
   "cell_type": "code",
   "execution_count": null,
   "id": "7e3a92ac",
   "metadata": {},
   "outputs": [],
   "source": [
    "# MEAN TVP OVER ALL CLASSES\n",
    "all_classes_fpr = np.unique([value for i in range(CLASSES.size) for value in fpr[i]])  # x-axis\n",
    "\n",
    "media_tvp = np.zeros_like(all_classes_fpr)\n",
    "\n",
    "for i in range(CLASSES.size):\n",
    "    media_tvp += np.interp(all_classes_fpr, fpr[i], tpr[i])\n",
    "\n",
    "media_tvp /= all_classes_fpr\n",
    "\n",
    "fpr[\"macro\"] = all_classes_fpr\n",
    "tpr[\"macro\"] = media_tvp\n",
    "roc_auc[\"macro\"] = sklm.auc(fpr[\"macro\"], tpr[\"macro\"])"
   ]
  },
  {
   "cell_type": "code",
   "execution_count": null,
   "id": "3bf80060-85f3-45a6-b049-7d962a39952e",
   "metadata": {},
   "outputs": [],
   "source": [
    "plt.figure(figsize=(8,6))\n",
    "\n",
    "LABELS_MACRO = f\"Media macro curva ROC (AUC = {roc_auc['macro']:.2f})\"\n",
    "\n",
    "plt.plot(fpr[\"macro\"], tpr[\"macro\"], label=LABELS_MACRO, linestyle=\":\", linewidth=4)\n",
    "\n",
    "LABEL_CLASSES = {\n",
    "    i: f\"Curva ROC da classe {class_} (AUC = {roc_auc[i]:.2f})\" \n",
    "    for i, class_ in enumerate(CLASSES)\n",
    "}\n",
    "\n",
    "for i, label in LABEL_CLASSES.items():\n",
    "    plt.plot(fpr[i], tpr[i], lw=2, label=label)\n",
    "\n",
    "plt.plot([0, 1], [0, 1], \"k--\",color=\"red\", lw=2)\n",
    "plt.xlim([0.0, 1.0])\n",
    "plt.ylim([0.0, 1.05])\n",
    "plt.annotate(\"Decisão aleatória\",(.5,.48),color=\"red\")\n",
    "plt.xlabel(\"Taxa de Falsos Positivos\")\n",
    "plt.ylabel(\"Taxa de Verdadeiros Positivos\")\n",
    "plt.title(\"Curva ROC\")\n",
    "plt.legend(loc=\"best\")\n",
    "# plt.savefig(\"auc_roc.png\")\n",
    "plt.show()"
   ]
  }
 ],
 "metadata": {
  "kernelspec": {
   "display_name": "Python 3.10.6 ('skin_cancer')",
   "language": "python",
   "name": "python3"
  },
  "language_info": {
   "codemirror_mode": {
    "name": "ipython",
    "version": 3
   },
   "file_extension": ".py",
   "mimetype": "text/x-python",
   "name": "python",
   "nbconvert_exporter": "python",
   "pygments_lexer": "ipython3",
   "version": "3.10.6"
  },
  "vscode": {
   "interpreter": {
    "hash": "8faf78792ba83b5e5fb42215939bd717c7307b9d5737e597c662cebf863c6fa8"
   }
  }
 },
 "nbformat": 4,
 "nbformat_minor": 4
}
