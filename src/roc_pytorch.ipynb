{
 "cells": [
  {
   "cell_type": "code",
   "execution_count": null,
   "id": "77ee8566-9b23-4add-a0b9-a9f78644c958",
   "metadata": {},
   "outputs": [],
   "source": [
    "import numpy as np\n",
    "import matplotlib.pyplot as plt\n",
    "from sklearn.metrics import roc_curve, auc\n",
    "\n",
    "import torch\n",
    "import pytorch_lightning as pl\n",
    "\n",
    "\n",
    "import dataset\n",
    "import neural_network\n",
    "import config as cfg"
   ]
  },
  {
   "cell_type": "markdown",
   "id": "caae43e3",
   "metadata": {},
   "source": [
    "## Parameters"
   ]
  },
  {
   "cell_type": "code",
   "execution_count": null,
   "id": "f7351ff0",
   "metadata": {},
   "outputs": [],
   "source": [
    "CLASSES = dataset.metadata.get_classes(cfg.paths.LABELS_CSV[\"train\"])  \n",
    "CLASSES, CLASSES.size"
   ]
  },
  {
   "cell_type": "code",
   "execution_count": null,
   "id": "78471900",
   "metadata": {},
   "outputs": [],
   "source": [
    "IMG_CHANNELS, IMG_HEIGHT, IMG_WIDTH = dataset.metadata.get_image_dimensions(cfg.paths.IMG_DIR[\"train\"])\n",
    "IMG_CHANNELS, IMG_HEIGHT, IMG_WIDTH"
   ]
  },
  {
   "cell_type": "markdown",
   "id": "caae43e3",
   "metadata": {},
   "source": [
    "## Loading Checkpoint"
   ]
  },
  {
   "cell_type": "code",
   "execution_count": null,
   "id": "70a451db",
   "metadata": {},
   "outputs": [],
   "source": [
    "SEED = 0\n",
    "pl.seed_everything(SEED, workers=True)"
   ]
  },
  {
   "cell_type": "code",
   "execution_count": null,
   "id": "05c56bb8",
   "metadata": {},
   "outputs": [],
   "source": [
    "data_module = dataset.SkinCancerDataModule(\n",
    "    cfg.paths.LABELS_CSV,\n",
    "    cfg.paths.IMG_DIR,\n",
    "    cfg.hparams.BATCH_SIZE,\n",
    "    cfg.hparams.DATALOADER_NUM_WORKERS,\n",
    "    transform=None\n",
    ")"
   ]
  },
  {
   "cell_type": "code",
   "execution_count": null,
   "id": "17ed26b5",
   "metadata": {},
   "outputs": [],
   "source": [
    "model = neural_network.ConvNetwork(CLASSES.size, cfg.hparams.DROPOUT_RATE)\n",
    "print(model)"
   ]
  },
  {
   "cell_type": "code",
   "execution_count": null,
   "id": "d533102f",
   "metadata": {},
   "outputs": [],
   "source": [
    "version = 0\n",
    "CHECKPOINT_DIR = cfg.paths.LOG_DIR / f\"lightning_logs/version_{version}\" / \"checkpoints\"\n",
    "\n",
    "CHECKPOINT_PATHS = list(CHECKPOINT_DIR.glob(\"*.ckpt\")) \n",
    "CHECKPOINT_PATHS"
   ]
  },
  {
   "cell_type": "code",
   "execution_count": null,
   "id": "b9ce3dc7",
   "metadata": {},
   "outputs": [],
   "source": [
    "model_module: neural_network.NetworkModule = neural_network.NetworkModule.load_from_checkpoint(\n",
    "    CHECKPOINT_PATHS[0],\n",
    "    model=model,\n",
    "    channels=IMG_CHANNELS,\n",
    "    height=IMG_HEIGHT,\n",
    "    width=IMG_WIDTH,\n",
    "    num_classes=CLASSES.size,\n",
    "    learning_rate=cfg.hparams.LEARNING_RATE\n",
    ")"
   ]
  },
  {
   "cell_type": "markdown",
   "id": "caae43e3",
   "metadata": {},
   "source": [
    "## Prediction"
   ]
  },
  {
   "cell_type": "code",
   "execution_count": null,
   "id": "e5ce3b21",
   "metadata": {},
   "outputs": [],
   "source": [
    "from pytorch_lightning.loggers import CSVLogger\n",
    "\n",
    "logger = CSVLogger(cfg.paths.LOG_DIR)"
   ]
  },
  {
   "cell_type": "code",
   "execution_count": null,
   "id": "e47fecc7",
   "metadata": {},
   "outputs": [],
   "source": [
    "trainer = pl.Trainer(logger=logger, deterministic=True)\n",
    "\n",
    "model_module.clear_test_predictions_variables()\n",
    "trainer.test(model_module, data_module)"
   ]
  },
  {
   "cell_type": "code",
   "execution_count": null,
   "id": "0fb60adf",
   "metadata": {},
   "outputs": [],
   "source": [
    "true_labels_pos = torch.concat(model_module.test_expected).cpu()\n",
    "\n",
    "predicted_probabilities = torch.concat(model_module.test_probabilities)\n",
    "predicted_labels_pos = predicted_probabilities.argmax(dim=1).cpu()\n",
    "\n",
    "true_labels = CLASSES[true_labels_pos]\n",
    "predicted_labels = CLASSES[predicted_labels_pos]"
   ]
  },
  {
   "cell_type": "markdown",
   "id": "caae43e3",
   "metadata": {},
   "source": [
    "## ROC"
   ]
  },
  {
   "cell_type": "code",
   "execution_count": null,
   "id": "c5b85546",
   "metadata": {},
   "outputs": [],
   "source": [
    "fpr, tpr, roc_auc = {}, {}, {}\n",
    "\n",
    "for i in range(CLASSES.size):\n",
    "\n",
    "    expected = (true_labels_pos == i).type(torch.int64)  # one for i-th class, zero for the others\n",
    "    probabilities = predicted_probabilities[:, i] # probabilities for prediction i-th class\n",
    "\n",
    "    fpr[i], tpr[i], _ = roc_curve(expected, probabilities)\n",
    "    roc_auc[i] = auc(fpr[i], tpr[i])"
   ]
  },
  {
   "cell_type": "code",
   "execution_count": null,
   "id": "7e3a92ac",
   "metadata": {},
   "outputs": [],
   "source": [
    "# MEAN TVP OVER ALL CLASSES\n",
    "all_classes_fpr = np.unique([value for i in range(CLASSES.size) for value in fpr[i]])  # x-axis\n",
    "\n",
    "media_tvp = np.zeros_like(all_classes_fpr)\n",
    "\n",
    "for i in range(CLASSES.size):\n",
    "    media_tvp += np.interp(all_classes_fpr, fpr[i], tpr[i])\n",
    "\n",
    "media_tvp /= all_classes_fpr\n",
    "\n",
    "fpr[\"macro\"] = all_classes_fpr\n",
    "tpr[\"macro\"] = media_tvp\n",
    "roc_auc[\"macro\"] = auc(fpr[\"macro\"], tpr[\"macro\"])"
   ]
  },
  {
   "cell_type": "code",
   "execution_count": null,
   "id": "3bf80060-85f3-45a6-b049-7d962a39952e",
   "metadata": {},
   "outputs": [],
   "source": [
    "plt.figure(figsize=(8,6))\n",
    "\n",
    "LABELS_MACRO = f\"Media macro curva ROC (AUC = {roc_auc['macro']:.2f})\"\n",
    "\n",
    "plt.plot(fpr[\"macro\"], tpr[\"macro\"], label=LABELS_MACRO, linestyle=\":\", linewidth=4)\n",
    "\n",
    "LABEL_CLASSES = {\n",
    "    i: f\"Curva ROC da classe {class_} (AUC = {roc_auc[i]:.2f})\" \n",
    "    for i, class_ in enumerate(CLASSES)\n",
    "}\n",
    "\n",
    "for i, label in LABEL_CLASSES.items():\n",
    "    plt.plot(fpr[i], tpr[i], lw=2, label=label)\n",
    "\n",
    "plt.plot([0, 1], [0, 1], \"k--\",color=\"red\", lw=2)\n",
    "plt.xlim([0.0, 1.0])\n",
    "plt.ylim([0.0, 1.05])\n",
    "plt.annotate(\"Decisão aleatória\",(.5,.48),color=\"red\")\n",
    "plt.xlabel(\"Taxa de Falsos Positivos\")\n",
    "plt.ylabel(\"Taxa de Verdadeiros Positivos\")\n",
    "plt.title(\"Curva ROC\")\n",
    "plt.legend(loc=\"best\")\n",
    "plt.savefig(\"auc_roc.png\")\n",
    "plt.show()"
   ]
  }
 ],
 "metadata": {
  "kernelspec": {
   "display_name": "Python 3.10.6 ('skin_cancer')",
   "language": "python",
   "name": "python3"
  },
  "language_info": {
   "codemirror_mode": {
    "name": "ipython",
    "version": 3
   },
   "file_extension": ".py",
   "mimetype": "text/x-python",
   "name": "python",
   "nbconvert_exporter": "python",
   "pygments_lexer": "ipython3",
   "version": "3.10.6"
  },
  "vscode": {
   "interpreter": {
    "hash": "8faf78792ba83b5e5fb42215939bd717c7307b9d5737e597c662cebf863c6fa8"
   }
  }
 },
 "nbformat": 4,
 "nbformat_minor": 5
}
